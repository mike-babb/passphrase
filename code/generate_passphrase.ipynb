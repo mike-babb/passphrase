{
 "cells": [
  {
   "cell_type": "code",
   "execution_count": 1,
   "id": "0d1dbf84",
   "metadata": {},
   "outputs": [],
   "source": [
    "# mike babb\n",
    "# generate a passphrase"
   ]
  },
  {
   "cell_type": "code",
   "execution_count": 2,
   "id": "84e3977f",
   "metadata": {},
   "outputs": [],
   "source": [
    "# standard\n",
    "import os\n",
    "import string"
   ]
  },
  {
   "cell_type": "code",
   "execution_count": 3,
   "id": "5c32da94",
   "metadata": {},
   "outputs": [],
   "source": [
    "# external\n",
    "import pandas as pd\n",
    "import numpy as np"
   ]
  },
  {
   "cell_type": "code",
   "execution_count": 10,
   "id": "4bfaca79",
   "metadata": {},
   "outputs": [],
   "source": [
    "def generate_pass():\n",
    "    \n",
    "    # load list of words\n",
    "    df = pd.read_csv(filepath_or_buffer='../eff_large_wordlist.txt', sep = '\\t', header = None,\n",
    "                    names = ['id', 'word'])\n",
    "    \n",
    "    # randomly select\n",
    "    words = np.random.choice(df['word'], size = 5, replace = False).tolist()\n",
    "    # make random upper case stuff\n",
    "    total_chars = sum([len(x) for x in words])\n",
    "\n",
    "    # numbers\n",
    "    num_chars = '1234567890'\n",
    "    num_chars = [x for x in num_chars]\n",
    "\n",
    "    # special characters\n",
    "    special_chars = '`~!@#$%^&*()-_=+,<.>/?;:[{]}|]'\n",
    "    special_chars = [x for x in special_chars]\n",
    "\n",
    "    # randomly select letters to make upper case\n",
    "    to_upper_case = np.random.choice(a = range(1, total_chars),\n",
    "                     size = 5, replace = False)\n",
    "    \n",
    "    # seperate each letter\n",
    "    passphrase = []\n",
    "    for ii in words:\n",
    "        passphrase.extend([jj for jj in ii])\n",
    "\n",
    "    # make upper case\n",
    "    for ii in to_upper_case:\n",
    "        passphrase[ii] = passphrase[ii].upper()\n",
    "\n",
    "    passphrase = ''.join(passphrase)\n",
    "    # now add some numbers and some special characters\n",
    "\n",
    "    rando_nc = np.random.choice(a = num_chars, size = 1)[0]\n",
    "\n",
    "    rando_sc = np.random.choice(a = special_chars, size = 1)[0]\n",
    "\n",
    "    passphrase += rando_nc + rando_sc \n",
    "\n",
    "    return passphrase"
   ]
  },
  {
   "cell_type": "code",
   "execution_count": 28,
   "id": "5543291d",
   "metadata": {},
   "outputs": [
    {
     "name": "stdout",
     "output_type": "stream",
     "text": [
      "tacticSIcingcrOokautisticvagraNcY9]\n"
     ]
    }
   ],
   "source": [
    "if __name__ == '__main__':\n",
    "    print(generate_pass())\n",
    "    "
   ]
  }
 ],
 "metadata": {
  "kernelspec": {
   "display_name": "Python 3 (ipykernel)",
   "language": "python",
   "name": "python3"
  },
  "language_info": {
   "codemirror_mode": {
    "name": "ipython",
    "version": 3
   },
   "file_extension": ".py",
   "mimetype": "text/x-python",
   "name": "python",
   "nbconvert_exporter": "python",
   "pygments_lexer": "ipython3",
   "version": "3.8.12"
  }
 },
 "nbformat": 4,
 "nbformat_minor": 5
}
